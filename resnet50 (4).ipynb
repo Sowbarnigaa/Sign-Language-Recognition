{
 "cells": [
  {
   "cell_type": "code",
   "execution_count": 1,
   "id": "37e19797",
   "metadata": {
    "execution": {
     "iopub.execute_input": "2022-07-23T23:12:05.228721Z",
     "iopub.status.busy": "2022-07-23T23:12:05.227913Z",
     "iopub.status.idle": "2022-07-23T23:12:27.215536Z",
     "shell.execute_reply": "2022-07-23T23:12:27.214449Z"
    },
    "papermill": {
     "duration": 21.998229,
     "end_time": "2022-07-23T23:12:27.218185",
     "exception": false,
     "start_time": "2022-07-23T23:12:05.219956",
     "status": "completed"
    },
    "tags": []
   },
   "outputs": [
    {
     "name": "stdout",
     "output_type": "stream",
     "text": [
      "Collecting split-folders\r\n",
      "  Downloading split_folders-0.5.1-py3-none-any.whl (8.4 kB)\r\n",
      "Installing collected packages: split-folders\r\n",
      "Successfully installed split-folders-0.5.1\r\n",
      "\u001b[33mWARNING: Running pip as the 'root' user can result in broken permissions and conflicting behaviour with the system package manager. It is recommended to use a virtual environment instead: https://pip.pypa.io/warnings/venv\u001b[0m\u001b[33m\r\n",
      "\u001b[0mCollecting livelossplot\r\n",
      "  Downloading livelossplot-0.5.5-py3-none-any.whl (22 kB)\r\n",
      "Requirement already satisfied: ipython==7.* in /opt/conda/lib/python3.7/site-packages (from livelossplot) (7.33.0)\r\n",
      "Requirement already satisfied: numpy<1.22 in /opt/conda/lib/python3.7/site-packages (from livelossplot) (1.21.6)\r\n",
      "Requirement already satisfied: matplotlib in /opt/conda/lib/python3.7/site-packages (from livelossplot) (3.5.2)\r\n",
      "Requirement already satisfied: bokeh in /opt/conda/lib/python3.7/site-packages (from livelossplot) (2.4.3)\r\n",
      "Requirement already satisfied: pexpect>4.3 in /opt/conda/lib/python3.7/site-packages (from ipython==7.*->livelossplot) (4.8.0)\r\n",
      "Requirement already satisfied: traitlets>=4.2 in /opt/conda/lib/python3.7/site-packages (from ipython==7.*->livelossplot) (5.3.0)\r\n",
      "Requirement already satisfied: jedi>=0.16 in /opt/conda/lib/python3.7/site-packages (from ipython==7.*->livelossplot) (0.18.1)\r\n",
      "Requirement already satisfied: pygments in /opt/conda/lib/python3.7/site-packages (from ipython==7.*->livelossplot) (2.12.0)\r\n",
      "Requirement already satisfied: setuptools>=18.5 in /opt/conda/lib/python3.7/site-packages (from ipython==7.*->livelossplot) (59.8.0)\r\n",
      "Requirement already satisfied: backcall in /opt/conda/lib/python3.7/site-packages (from ipython==7.*->livelossplot) (0.2.0)\r\n",
      "Requirement already satisfied: matplotlib-inline in /opt/conda/lib/python3.7/site-packages (from ipython==7.*->livelossplot) (0.1.3)\r\n",
      "Requirement already satisfied: decorator in /opt/conda/lib/python3.7/site-packages (from ipython==7.*->livelossplot) (5.1.1)\r\n",
      "Requirement already satisfied: pickleshare in /opt/conda/lib/python3.7/site-packages (from ipython==7.*->livelossplot) (0.7.5)\r\n",
      "Requirement already satisfied: prompt-toolkit!=3.0.0,!=3.0.1,<3.1.0,>=2.0.0 in /opt/conda/lib/python3.7/site-packages (from ipython==7.*->livelossplot) (3.0.30)\r\n",
      "Requirement already satisfied: tornado>=5.1 in /opt/conda/lib/python3.7/site-packages (from bokeh->livelossplot) (6.1)\r\n",
      "Requirement already satisfied: PyYAML>=3.10 in /opt/conda/lib/python3.7/site-packages (from bokeh->livelossplot) (6.0)\r\n",
      "Requirement already satisfied: typing-extensions>=3.10.0 in /opt/conda/lib/python3.7/site-packages (from bokeh->livelossplot) (4.1.1)\r\n",
      "Requirement already satisfied: Jinja2>=2.9 in /opt/conda/lib/python3.7/site-packages (from bokeh->livelossplot) (3.1.2)\r\n",
      "Requirement already satisfied: pillow>=7.1.0 in /opt/conda/lib/python3.7/site-packages (from bokeh->livelossplot) (9.1.1)\r\n",
      "Requirement already satisfied: packaging>=16.8 in /opt/conda/lib/python3.7/site-packages (from bokeh->livelossplot) (21.3)\r\n",
      "Requirement already satisfied: python-dateutil>=2.7 in /opt/conda/lib/python3.7/site-packages (from matplotlib->livelossplot) (2.8.2)\r\n",
      "Requirement already satisfied: fonttools>=4.22.0 in /opt/conda/lib/python3.7/site-packages (from matplotlib->livelossplot) (4.33.3)\r\n",
      "Requirement already satisfied: pyparsing>=2.2.1 in /opt/conda/lib/python3.7/site-packages (from matplotlib->livelossplot) (3.0.9)\r\n",
      "Requirement already satisfied: cycler>=0.10 in /opt/conda/lib/python3.7/site-packages (from matplotlib->livelossplot) (0.11.0)\r\n",
      "Requirement already satisfied: kiwisolver>=1.0.1 in /opt/conda/lib/python3.7/site-packages (from matplotlib->livelossplot) (1.4.3)\r\n",
      "Requirement already satisfied: parso<0.9.0,>=0.8.0 in /opt/conda/lib/python3.7/site-packages (from jedi>=0.16->ipython==7.*->livelossplot) (0.8.3)\r\n",
      "Requirement already satisfied: MarkupSafe>=2.0 in /opt/conda/lib/python3.7/site-packages (from Jinja2>=2.9->bokeh->livelossplot) (2.0.1)\r\n",
      "Requirement already satisfied: ptyprocess>=0.5 in /opt/conda/lib/python3.7/site-packages (from pexpect>4.3->ipython==7.*->livelossplot) (0.7.0)\r\n",
      "Requirement already satisfied: wcwidth in /opt/conda/lib/python3.7/site-packages (from prompt-toolkit!=3.0.0,!=3.0.1,<3.1.0,>=2.0.0->ipython==7.*->livelossplot) (0.2.5)\r\n",
      "Requirement already satisfied: six>=1.5 in /opt/conda/lib/python3.7/site-packages (from python-dateutil>=2.7->matplotlib->livelossplot) (1.16.0)\r\n",
      "Installing collected packages: livelossplot\r\n",
      "Successfully installed livelossplot-0.5.5\r\n",
      "\u001b[33mWARNING: Running pip as the 'root' user can result in broken permissions and conflicting behaviour with the system package manager. It is recommended to use a virtual environment instead: https://pip.pypa.io/warnings/venv\u001b[0m\u001b[33m\r\n",
      "\u001b[0m"
     ]
    }
   ],
   "source": [
    "!pip install split-folders\n",
    "\n",
    "!pip install livelossplot"
   ]
  },
  {
   "cell_type": "code",
   "execution_count": 2,
   "id": "bbeb49f5",
   "metadata": {
    "execution": {
     "iopub.execute_input": "2022-07-23T23:12:27.232064Z",
     "iopub.status.busy": "2022-07-23T23:12:27.231751Z",
     "iopub.status.idle": "2022-07-23T23:12:31.797175Z",
     "shell.execute_reply": "2022-07-23T23:12:31.796053Z"
    },
    "papermill": {
     "duration": 4.57556,
     "end_time": "2022-07-23T23:12:31.800084",
     "exception": false,
     "start_time": "2022-07-23T23:12:27.224524",
     "status": "completed"
    },
    "tags": []
   },
   "outputs": [],
   "source": [
    "import os\n",
    "import numpy as np\n",
    "import pandas as pd\n",
    "import tensorflow as tf"
   ]
  },
  {
   "cell_type": "code",
   "execution_count": 3,
   "id": "ac3c596f",
   "metadata": {
    "execution": {
     "iopub.execute_input": "2022-07-23T23:12:31.814707Z",
     "iopub.status.busy": "2022-07-23T23:12:31.814160Z",
     "iopub.status.idle": "2022-07-23T23:12:32.734665Z",
     "shell.execute_reply": "2022-07-23T23:12:32.733625Z"
    },
    "papermill": {
     "duration": 0.930105,
     "end_time": "2022-07-23T23:12:32.737013",
     "exception": false,
     "start_time": "2022-07-23T23:12:31.806908",
     "status": "completed"
    },
    "tags": []
   },
   "outputs": [],
   "source": [
    "%matplotlib inline\n",
    "import matplotlib.pyplot as plt\n",
    "import matplotlib.image as mpimg\n",
    "from keras.preprocessing.image import ImageDataGenerator\n",
    "from keras.models import Sequential\n",
    "from tensorflow.keras.optimizers import RMSprop,Adam\n",
    "from keras.layers import Dense, Flatten, GlobalMaxPooling2D,GlobalAveragePooling2D, Dropout\n",
    "from keras.callbacks import CSVLogger\n",
    "from livelossplot import PlotLossesKeras\n",
    "import os \n",
    "import zipfile \n",
    "import tensorflow as tf \n",
    "from tensorflow.keras import layers \n",
    "from tensorflow.keras import Model \n",
    "import keras.utils\n",
    "from keras.utils.np_utils import to_categorical"
   ]
  },
  {
   "cell_type": "code",
   "execution_count": 4,
   "id": "2e077bf0",
   "metadata": {
    "execution": {
     "iopub.execute_input": "2022-07-23T23:12:32.750744Z",
     "iopub.status.busy": "2022-07-23T23:12:32.750205Z",
     "iopub.status.idle": "2022-07-23T23:12:47.132959Z",
     "shell.execute_reply": "2022-07-23T23:12:47.131700Z"
    },
    "papermill": {
     "duration": 14.392482,
     "end_time": "2022-07-23T23:12:47.135537",
     "exception": false,
     "start_time": "2022-07-23T23:12:32.743055",
     "status": "completed"
    },
    "tags": []
   },
   "outputs": [
    {
     "name": "stdout",
     "output_type": "stream",
     "text": [
      "Collecting git+https://github.com/qubvel/segmentation_models\r\n",
      "  Cloning https://github.com/qubvel/segmentation_models to /tmp/pip-req-build-jxzw1ha_\r\n",
      "  Running command git clone --filter=blob:none --quiet https://github.com/qubvel/segmentation_models /tmp/pip-req-build-jxzw1ha_\r\n",
      "  Resolved https://github.com/qubvel/segmentation_models to commit 94f624b7029deb463c859efbd92fa26f512b52b8\r\n",
      "  Running command git submodule update --init --recursive -q\r\n",
      "  Preparing metadata (setup.py) ... \u001b[?25l-\b \bdone\r\n",
      "\u001b[?25hCollecting keras_applications<=1.0.8,>=1.0.7\r\n",
      "  Downloading Keras_Applications-1.0.8-py3-none-any.whl (50 kB)\r\n",
      "\u001b[2K     \u001b[90m━━━━━━━━━━━━━━━━━━━━━━━━━━━━━━━━━━━━━━━\u001b[0m \u001b[32m50.7/50.7 kB\u001b[0m \u001b[31m625.4 kB/s\u001b[0m eta \u001b[36m0:00:00\u001b[0m\r\n",
      "\u001b[?25hCollecting image-classifiers==1.0.0\r\n",
      "  Downloading image_classifiers-1.0.0-py3-none-any.whl (19 kB)\r\n",
      "Collecting efficientnet==1.0.0\r\n",
      "  Downloading efficientnet-1.0.0-py3-none-any.whl (17 kB)\r\n",
      "Requirement already satisfied: scikit-image in /opt/conda/lib/python3.7/site-packages (from efficientnet==1.0.0->segmentation-models==1.0.1) (0.19.3)\r\n",
      "Requirement already satisfied: numpy>=1.9.1 in /opt/conda/lib/python3.7/site-packages (from keras_applications<=1.0.8,>=1.0.7->segmentation-models==1.0.1) (1.21.6)\r\n",
      "Requirement already satisfied: h5py in /opt/conda/lib/python3.7/site-packages (from keras_applications<=1.0.8,>=1.0.7->segmentation-models==1.0.1) (3.7.0)\r\n",
      "Requirement already satisfied: pillow!=7.1.0,!=7.1.1,!=8.3.0,>=6.1.0 in /opt/conda/lib/python3.7/site-packages (from scikit-image->efficientnet==1.0.0->segmentation-models==1.0.1) (9.1.1)\r\n",
      "Requirement already satisfied: tifffile>=2019.7.26 in /opt/conda/lib/python3.7/site-packages (from scikit-image->efficientnet==1.0.0->segmentation-models==1.0.1) (2021.11.2)\r\n",
      "Requirement already satisfied: imageio>=2.4.1 in /opt/conda/lib/python3.7/site-packages (from scikit-image->efficientnet==1.0.0->segmentation-models==1.0.1) (2.19.3)\r\n",
      "Requirement already satisfied: scipy>=1.4.1 in /opt/conda/lib/python3.7/site-packages (from scikit-image->efficientnet==1.0.0->segmentation-models==1.0.1) (1.7.3)\r\n",
      "Requirement already satisfied: PyWavelets>=1.1.1 in /opt/conda/lib/python3.7/site-packages (from scikit-image->efficientnet==1.0.0->segmentation-models==1.0.1) (1.3.0)\r\n",
      "Requirement already satisfied: networkx>=2.2 in /opt/conda/lib/python3.7/site-packages (from scikit-image->efficientnet==1.0.0->segmentation-models==1.0.1) (2.5)\r\n",
      "Requirement already satisfied: packaging>=20.0 in /opt/conda/lib/python3.7/site-packages (from scikit-image->efficientnet==1.0.0->segmentation-models==1.0.1) (21.3)\r\n",
      "Requirement already satisfied: decorator>=4.3.0 in /opt/conda/lib/python3.7/site-packages (from networkx>=2.2->scikit-image->efficientnet==1.0.0->segmentation-models==1.0.1) (5.1.1)\r\n",
      "Requirement already satisfied: pyparsing!=3.0.5,>=2.0.2 in /opt/conda/lib/python3.7/site-packages (from packaging>=20.0->scikit-image->efficientnet==1.0.0->segmentation-models==1.0.1) (3.0.9)\r\n",
      "Building wheels for collected packages: segmentation-models\r\n",
      "  Building wheel for segmentation-models (setup.py) ... \u001b[?25l-\b \b\\\b \bdone\r\n",
      "\u001b[?25h  Created wheel for segmentation-models: filename=segmentation_models-1.0.1-py3-none-any.whl size=33810 sha256=c205adddd202a6f39d4f0a93b4ff90f65778a62228245336238a720aa5436773\r\n",
      "  Stored in directory: /tmp/pip-ephem-wheel-cache-evojwz9_/wheels/02/cd/18/61c0bbb8766acfec68f9d20618886b7b38dfeeb95865b6ba00\r\n",
      "Successfully built segmentation-models\r\n",
      "Installing collected packages: keras_applications, image-classifiers, efficientnet, segmentation-models\r\n",
      "Successfully installed efficientnet-1.0.0 image-classifiers-1.0.0 keras_applications-1.0.8 segmentation-models-1.0.1\r\n",
      "\u001b[33mWARNING: Running pip as the 'root' user can result in broken permissions and conflicting behaviour with the system package manager. It is recommended to use a virtual environment instead: https://pip.pypa.io/warnings/venv\u001b[0m\u001b[33m\r\n",
      "\u001b[0m"
     ]
    }
   ],
   "source": [
    "!pip install git+https://github.com/qubvel/segmentation_models"
   ]
  },
  {
   "cell_type": "markdown",
   "id": "e977d14d",
   "metadata": {
    "papermill": {
     "duration": 0.007111,
     "end_time": "2022-07-23T23:12:47.150497",
     "exception": false,
     "start_time": "2022-07-23T23:12:47.143386",
     "status": "completed"
    },
    "tags": []
   },
   "source": []
  },
  {
   "cell_type": "code",
   "execution_count": 5,
   "id": "b6be4749",
   "metadata": {
    "execution": {
     "iopub.execute_input": "2022-07-23T23:12:47.166388Z",
     "iopub.status.busy": "2022-07-23T23:12:47.166025Z",
     "iopub.status.idle": "2022-07-23T23:12:47.172418Z",
     "shell.execute_reply": "2022-07-23T23:12:47.171387Z"
    },
    "papermill": {
     "duration": 0.016922,
     "end_time": "2022-07-23T23:12:47.174544",
     "exception": false,
     "start_time": "2022-07-23T23:12:47.157622",
     "status": "completed"
    },
    "tags": []
   },
   "outputs": [],
   "source": [
    "from tensorflow.keras.applications import ResNet50 as resnet"
   ]
  },
  {
   "cell_type": "code",
   "execution_count": 6,
   "id": "5697d8c1",
   "metadata": {
    "execution": {
     "iopub.execute_input": "2022-07-23T23:12:47.190234Z",
     "iopub.status.busy": "2022-07-23T23:12:47.189350Z",
     "iopub.status.idle": "2022-07-23T23:12:47.195258Z",
     "shell.execute_reply": "2022-07-23T23:12:47.194376Z"
    },
    "papermill": {
     "duration": 0.015359,
     "end_time": "2022-07-23T23:12:47.197110",
     "exception": false,
     "start_time": "2022-07-23T23:12:47.181751",
     "status": "completed"
    },
    "tags": []
   },
   "outputs": [],
   "source": [
    "TRAINING_LOGS_FILE = \"training_logs.csv\"\n",
    "MODEL_SUMMARY_FILE = \"model_summary.txt\"\n",
    "MODEL_FILE = \"train.h5\"\n",
    "\n",
    "# Data\n",
    "\n",
    "training_data_dir = \"../input/31-classes/train/train\" # 10 000 * 2\n",
    "#validation_data_dir = \"./output/val\" # 2 500 * 2\n",
    "test_data_dir = \"../input/31-classes/val/val\" # 12 500"
   ]
  },
  {
   "cell_type": "code",
   "execution_count": 7,
   "id": "db5bcfa4",
   "metadata": {
    "execution": {
     "iopub.execute_input": "2022-07-23T23:12:47.213162Z",
     "iopub.status.busy": "2022-07-23T23:12:47.212296Z",
     "iopub.status.idle": "2022-07-23T23:12:47.218511Z",
     "shell.execute_reply": "2022-07-23T23:12:47.217736Z"
    },
    "papermill": {
     "duration": 0.016501,
     "end_time": "2022-07-23T23:12:47.220610",
     "exception": false,
     "start_time": "2022-07-23T23:12:47.204109",
     "status": "completed"
    },
    "tags": []
   },
   "outputs": [],
   "source": [
    "# parameters for data\n",
    "height = 224\n",
    "width = 224\n",
    "channels = 3\n",
    "input_shape = (height, width, channels)\n",
    "n_classes = 31\n",
    "\n",
    "# parameters for optimizers\n",
    "lr = 1e-3\n",
    "\n",
    "# Parameters for training\n",
    "epochs = 25\n",
    "batch_size = 8\n",
    "\n",
    "# parameters for callback functions\n",
    "es_patience = 10\n",
    "rlrop_patience = 5\n",
    "decay_rate = 0.5"
   ]
  },
  {
   "cell_type": "code",
   "execution_count": 8,
   "id": "5c53d82a",
   "metadata": {
    "execution": {
     "iopub.execute_input": "2022-07-23T23:12:47.236291Z",
     "iopub.status.busy": "2022-07-23T23:12:47.235398Z",
     "iopub.status.idle": "2022-07-23T23:12:47.241512Z",
     "shell.execute_reply": "2022-07-23T23:12:47.240624Z"
    },
    "papermill": {
     "duration": 0.015949,
     "end_time": "2022-07-23T23:12:47.243335",
     "exception": false,
     "start_time": "2022-07-23T23:12:47.227386",
     "status": "completed"
    },
    "tags": []
   },
   "outputs": [],
   "source": [
    "# Data augmentation\n",
    "training_data_generator = ImageDataGenerator(\n",
    "    rescale=1./255,\n",
    "    shear_range=0.1,\n",
    "    zoom_range=0.1,\n",
    "    horizontal_flip=True,\n",
    "    validation_split=0.2)\n",
    "#validation_data_generator = ImageDataGenerator(rescale=1./255)\n",
    "test_data_generator = ImageDataGenerator(rescale=1./255)"
   ]
  },
  {
   "cell_type": "code",
   "execution_count": 9,
   "id": "ac2e38fe",
   "metadata": {
    "execution": {
     "iopub.execute_input": "2022-07-23T23:12:47.258332Z",
     "iopub.status.busy": "2022-07-23T23:12:47.257572Z",
     "iopub.status.idle": "2022-07-23T23:12:52.709115Z",
     "shell.execute_reply": "2022-07-23T23:12:52.708082Z"
    },
    "papermill": {
     "duration": 5.462227,
     "end_time": "2022-07-23T23:12:52.712160",
     "exception": false,
     "start_time": "2022-07-23T23:12:47.249933",
     "status": "completed"
    },
    "tags": []
   },
   "outputs": [
    {
     "name": "stderr",
     "output_type": "stream",
     "text": [
      "2022-07-23 23:12:47.376198: I tensorflow/stream_executor/cuda/cuda_gpu_executor.cc:937] successful NUMA node read from SysFS had negative value (-1), but there must be at least one NUMA node, so returning NUMA node zero\n",
      "2022-07-23 23:12:47.493496: I tensorflow/stream_executor/cuda/cuda_gpu_executor.cc:937] successful NUMA node read from SysFS had negative value (-1), but there must be at least one NUMA node, so returning NUMA node zero\n",
      "2022-07-23 23:12:47.494308: I tensorflow/stream_executor/cuda/cuda_gpu_executor.cc:937] successful NUMA node read from SysFS had negative value (-1), but there must be at least one NUMA node, so returning NUMA node zero\n",
      "2022-07-23 23:12:47.495694: I tensorflow/core/platform/cpu_feature_guard.cc:142] This TensorFlow binary is optimized with oneAPI Deep Neural Network Library (oneDNN) to use the following CPU instructions in performance-critical operations:  AVX2 AVX512F FMA\n",
      "To enable them in other operations, rebuild TensorFlow with the appropriate compiler flags.\n",
      "2022-07-23 23:12:47.495974: I tensorflow/stream_executor/cuda/cuda_gpu_executor.cc:937] successful NUMA node read from SysFS had negative value (-1), but there must be at least one NUMA node, so returning NUMA node zero\n",
      "2022-07-23 23:12:47.496689: I tensorflow/stream_executor/cuda/cuda_gpu_executor.cc:937] successful NUMA node read from SysFS had negative value (-1), but there must be at least one NUMA node, so returning NUMA node zero\n",
      "2022-07-23 23:12:47.497349: I tensorflow/stream_executor/cuda/cuda_gpu_executor.cc:937] successful NUMA node read from SysFS had negative value (-1), but there must be at least one NUMA node, so returning NUMA node zero\n",
      "2022-07-23 23:12:49.798599: I tensorflow/stream_executor/cuda/cuda_gpu_executor.cc:937] successful NUMA node read from SysFS had negative value (-1), but there must be at least one NUMA node, so returning NUMA node zero\n",
      "2022-07-23 23:12:49.799429: I tensorflow/stream_executor/cuda/cuda_gpu_executor.cc:937] successful NUMA node read from SysFS had negative value (-1), but there must be at least one NUMA node, so returning NUMA node zero\n",
      "2022-07-23 23:12:49.800132: I tensorflow/stream_executor/cuda/cuda_gpu_executor.cc:937] successful NUMA node read from SysFS had negative value (-1), but there must be at least one NUMA node, so returning NUMA node zero\n",
      "2022-07-23 23:12:49.800786: I tensorflow/core/common_runtime/gpu/gpu_device.cc:1510] Created device /job:localhost/replica:0/task:0/device:GPU:0 with 15403 MB memory:  -> device: 0, name: Tesla P100-PCIE-16GB, pci bus id: 0000:00:04.0, compute capability: 6.0\n"
     ]
    },
    {
     "name": "stdout",
     "output_type": "stream",
     "text": [
      "Downloading data from https://storage.googleapis.com/tensorflow/keras-applications/resnet/resnet50_weights_tf_dim_ordering_tf_kernels_notop.h5\n",
      "94773248/94765736 [==============================] - 0s 0us/step\n",
      "94781440/94765736 [==============================] - 0s 0us/step\n",
      "Model: \"sequential\"\n",
      "_________________________________________________________________\n",
      "Layer (type)                 Output Shape              Param #   \n",
      "=================================================================\n",
      "resnet50 (Functional)        (None, 7, 7, 2048)        23587712  \n",
      "_________________________________________________________________\n",
      "global_average_pooling2d (Gl (None, 2048)              0         \n",
      "_________________________________________________________________\n",
      "dropout (Dropout)            (None, 2048)              0         \n",
      "_________________________________________________________________\n",
      "dense (Dense)                (None, 31)                63519     \n",
      "=================================================================\n",
      "Total params: 23,651,231\n",
      "Trainable params: 23,598,111\n",
      "Non-trainable params: 53,120\n",
      "_________________________________________________________________\n"
     ]
    }
   ],
   "source": [
    "resn= resnet(weights = 'imagenet', include_top = False, input_shape = input_shape)\n",
    "model = Sequential()\n",
    "model.add(resn)\n",
    "model.add(GlobalAveragePooling2D())\n",
    "model.add(Dropout(0.2))\n",
    "model.add(Dense(31, activation = 'softmax'))\n",
    "\n",
    "model.summary()"
   ]
  },
  {
   "cell_type": "code",
   "execution_count": 10,
   "id": "5e4fe1f2",
   "metadata": {
    "execution": {
     "iopub.execute_input": "2022-07-23T23:12:52.730385Z",
     "iopub.status.busy": "2022-07-23T23:12:52.730038Z",
     "iopub.status.idle": "2022-07-23T23:12:52.735554Z",
     "shell.execute_reply": "2022-07-23T23:12:52.734585Z"
    },
    "papermill": {
     "duration": 0.016388,
     "end_time": "2022-07-23T23:12:52.737590",
     "exception": false,
     "start_time": "2022-07-23T23:12:52.721202",
     "status": "completed"
    },
    "tags": []
   },
   "outputs": [],
   "source": [
    "from tensorflow.keras.optimizers import SGD\n",
    "from tensorflow.keras.callbacks import EarlyStopping, ReduceLROnPlateau"
   ]
  },
  {
   "cell_type": "code",
   "execution_count": 11,
   "id": "559fd3f7",
   "metadata": {
    "execution": {
     "iopub.execute_input": "2022-07-23T23:12:52.754035Z",
     "iopub.status.busy": "2022-07-23T23:12:52.753752Z",
     "iopub.status.idle": "2022-07-23T23:12:52.759169Z",
     "shell.execute_reply": "2022-07-23T23:12:52.758168Z"
    },
    "papermill": {
     "duration": 0.016338,
     "end_time": "2022-07-23T23:12:52.761588",
     "exception": false,
     "start_time": "2022-07-23T23:12:52.745250",
     "status": "completed"
    },
    "tags": []
   },
   "outputs": [],
   "source": [
    "sgd = SGD(learning_rate = lr, momentum = 0.9, nesterov = True)\n",
    "es = EarlyStopping(monitor = 'val_loss', mode = 'min', patience = es_patience, restore_best_weights = True, verbose = 1)\n",
    "rlrop = ReduceLROnPlateau(monitor = 'val_loss', mode = 'min', patience = rlrop_patience, \n",
    "                        factor = decay_rate, min_lr = 1e-6, verbose = 1)"
   ]
  },
  {
   "cell_type": "code",
   "execution_count": 12,
   "id": "2d2094ba",
   "metadata": {
    "execution": {
     "iopub.execute_input": "2022-07-23T23:12:52.778702Z",
     "iopub.status.busy": "2022-07-23T23:12:52.778440Z",
     "iopub.status.idle": "2022-07-23T23:12:52.794797Z",
     "shell.execute_reply": "2022-07-23T23:12:52.793952Z"
    },
    "papermill": {
     "duration": 0.027653,
     "end_time": "2022-07-23T23:12:52.796702",
     "exception": false,
     "start_time": "2022-07-23T23:12:52.769049",
     "status": "completed"
    },
    "tags": []
   },
   "outputs": [],
   "source": [
    "model.compile(loss = 'categorical_crossentropy', optimizer = sgd, metrics = ['acc'])"
   ]
  },
  {
   "cell_type": "code",
   "execution_count": 13,
   "id": "3fcf91f5",
   "metadata": {
    "execution": {
     "iopub.execute_input": "2022-07-23T23:12:52.813203Z",
     "iopub.status.busy": "2022-07-23T23:12:52.812911Z",
     "iopub.status.idle": "2022-07-23T23:15:08.907768Z",
     "shell.execute_reply": "2022-07-23T23:15:08.906771Z"
    },
    "papermill": {
     "duration": 136.113199,
     "end_time": "2022-07-23T23:15:08.917601",
     "exception": false,
     "start_time": "2022-07-23T23:12:52.804402",
     "status": "completed"
    },
    "tags": []
   },
   "outputs": [
    {
     "name": "stdout",
     "output_type": "stream",
     "text": [
      "Found 99615 images belonging to 31 classes.\n",
      "Found 24885 images belonging to 31 classes.\n",
      "Found 31137 images belonging to 31 classes.\n"
     ]
    }
   ],
   "source": [
    "training_generator = training_data_generator.flow_from_directory(training_data_dir, target_size=(224,224), batch_size=16, shuffle=True, subset=\"training\")\n",
    "validation_generator = training_data_generator.flow_from_directory(training_data_dir, target_size=(224,224), batch_size=8, subset=\"validation\")# Data preparation\n",
    "\n",
    "\n",
    "#validation_generator = validation_data_generator.flow_from_directory(\n",
    "    #validation_data_dir,\n",
    "    #target_size=(IMAGE_WIDTH, IMAGE_HEIGHT),\n",
    "    #batch_size=BATCH_SIZE,\n",
    "    #class_mode=\"categorical\")\n",
    "test_generator = test_data_generator.flow_from_directory(\n",
    "    test_data_dir,\n",
    "    target_size=(224,224),\n",
    "    batch_size=1,\n",
    "    class_mode=\"categorical\", \n",
    "    shuffle=False)"
   ]
  },
  {
   "cell_type": "code",
   "execution_count": 14,
   "id": "9d72032a",
   "metadata": {
    "execution": {
     "iopub.execute_input": "2022-07-23T23:15:08.935084Z",
     "iopub.status.busy": "2022-07-23T23:15:08.934804Z",
     "iopub.status.idle": "2022-07-24T07:01:39.327112Z",
     "shell.execute_reply": "2022-07-24T07:01:39.326140Z"
    },
    "papermill": {
     "duration": 27990.403723,
     "end_time": "2022-07-24T07:01:39.329580",
     "exception": false,
     "start_time": "2022-07-23T23:15:08.925857",
     "status": "completed"
    },
    "tags": []
   },
   "outputs": [
    {
     "name": "stderr",
     "output_type": "stream",
     "text": [
      "2022-07-23 23:15:09.261308: I tensorflow/compiler/mlir/mlir_graph_optimization_pass.cc:185] None of the MLIR Optimization Passes are enabled (registered 2)\n"
     ]
    },
    {
     "name": "stdout",
     "output_type": "stream",
     "text": [
      "Epoch 1/20\n"
     ]
    },
    {
     "name": "stderr",
     "output_type": "stream",
     "text": [
      "2022-07-23 23:15:15.061727: I tensorflow/stream_executor/cuda/cuda_dnn.cc:369] Loaded cuDNN version 8005\n"
     ]
    },
    {
     "name": "stdout",
     "output_type": "stream",
     "text": [
      "6226/6226 [==============================] - 1702s 271ms/step - loss: 0.1462 - acc: 0.9568 - val_loss: 0.3391 - val_acc: 0.9258\n",
      "Epoch 2/20\n",
      "6226/6226 [==============================] - 1354s 218ms/step - loss: 0.0202 - acc: 0.9939 - val_loss: 0.3037 - val_acc: 0.9414\n",
      "Epoch 3/20\n",
      "6226/6226 [==============================] - 1350s 217ms/step - loss: 0.0107 - acc: 0.9968 - val_loss: 0.3250 - val_acc: 0.9336\n",
      "Epoch 4/20\n",
      "6226/6226 [==============================] - 1367s 220ms/step - loss: 0.0083 - acc: 0.9974 - val_loss: 0.3164 - val_acc: 0.9570\n",
      "Epoch 5/20\n",
      "6226/6226 [==============================] - 1377s 221ms/step - loss: 0.0056 - acc: 0.9982 - val_loss: 0.0851 - val_acc: 0.9727\n",
      "Epoch 6/20\n",
      "6226/6226 [==============================] - 1377s 221ms/step - loss: 0.0048 - acc: 0.9986 - val_loss: 0.1736 - val_acc: 0.9609\n",
      "Epoch 7/20\n",
      "6226/6226 [==============================] - 1413s 227ms/step - loss: 0.0035 - acc: 0.9989 - val_loss: 0.0923 - val_acc: 0.9883\n",
      "Epoch 8/20\n",
      "6226/6226 [==============================] - 1395s 224ms/step - loss: 0.0037 - acc: 0.9989 - val_loss: 0.3572 - val_acc: 0.9375\n",
      "Epoch 9/20\n",
      "6226/6226 [==============================] - 1394s 224ms/step - loss: 0.0027 - acc: 0.9991 - val_loss: 0.1445 - val_acc: 0.9570\n",
      "Epoch 10/20\n",
      "6226/6226 [==============================] - 1381s 222ms/step - loss: 0.0031 - acc: 0.9991 - val_loss: 0.1890 - val_acc: 0.9727\n",
      "Epoch 11/20\n",
      "6226/6226 [==============================] - 1366s 219ms/step - loss: 0.0023 - acc: 0.9993 - val_loss: 0.1624 - val_acc: 0.9648\n",
      "Epoch 12/20\n",
      "6226/6226 [==============================] - 1375s 221ms/step - loss: 0.0020 - acc: 0.9994 - val_loss: 0.2905 - val_acc: 0.9688\n",
      "Epoch 13/20\n",
      "6226/6226 [==============================] - 1389s 223ms/step - loss: 0.0019 - acc: 0.9992 - val_loss: 0.1184 - val_acc: 0.9805\n",
      "Epoch 14/20\n",
      "6226/6226 [==============================] - 1391s 223ms/step - loss: 0.0016 - acc: 0.9994 - val_loss: 0.1781 - val_acc: 0.9766\n",
      "Epoch 15/20\n",
      "6226/6226 [==============================] - 1383s 222ms/step - loss: 0.0014 - acc: 0.9995 - val_loss: 0.2003 - val_acc: 0.9609\n",
      "Epoch 16/20\n",
      "6226/6226 [==============================] - 1408s 226ms/step - loss: 0.0014 - acc: 0.9995 - val_loss: 0.3141 - val_acc: 0.9609\n",
      "Epoch 17/20\n",
      "6226/6226 [==============================] - 1403s 225ms/step - loss: 9.5910e-04 - acc: 0.9997 - val_loss: 0.2888 - val_acc: 0.9570\n",
      "Epoch 18/20\n",
      "6226/6226 [==============================] - 1399s 225ms/step - loss: 0.0016 - acc: 0.9995 - val_loss: 0.2181 - val_acc: 0.9375\n",
      "Epoch 19/20\n",
      "6226/6226 [==============================] - 1384s 222ms/step - loss: 0.0023 - acc: 0.9992 - val_loss: 0.4071 - val_acc: 0.9414\n",
      "Epoch 20/20\n",
      "6226/6226 [==============================] - 1356s 218ms/step - loss: 0.0012 - acc: 0.9996 - val_loss: 0.1839 - val_acc: 0.9609\n"
     ]
    }
   ],
   "source": [
    "hist = model.fit(training_generator,epochs = 20,validation_data=validation_generator, validation_steps=32,\n",
    "    validation_batch_size=8, verbose='auto')\n",
    "model.save_weights(\"resnetVal_weight.h5\")"
   ]
  },
  {
   "cell_type": "code",
   "execution_count": 15,
   "id": "9d7a7871",
   "metadata": {
    "execution": {
     "iopub.execute_input": "2022-07-24T07:01:56.418523Z",
     "iopub.status.busy": "2022-07-24T07:01:56.417913Z",
     "iopub.status.idle": "2022-07-24T07:01:57.131331Z",
     "shell.execute_reply": "2022-07-24T07:01:57.130176Z"
    },
    "papermill": {
     "duration": 9.024311,
     "end_time": "2022-07-24T07:01:57.134553",
     "exception": false,
     "start_time": "2022-07-24T07:01:48.110242",
     "status": "completed"
    },
    "tags": []
   },
   "outputs": [],
   "source": [
    "from sklearn.metrics import classification_report"
   ]
  },
  {
   "cell_type": "code",
   "execution_count": 16,
   "id": "4e6e5aa7",
   "metadata": {
    "execution": {
     "iopub.execute_input": "2022-07-24T07:02:14.941466Z",
     "iopub.status.busy": "2022-07-24T07:02:14.940615Z",
     "iopub.status.idle": "2022-07-24T07:08:17.866328Z",
     "shell.execute_reply": "2022-07-24T07:08:17.865324Z"
    },
    "papermill": {
     "duration": 371.709467,
     "end_time": "2022-07-24T07:08:17.868824",
     "exception": false,
     "start_time": "2022-07-24T07:02:06.159357",
     "status": "completed"
    },
    "tags": []
   },
   "outputs": [
    {
     "name": "stdout",
     "output_type": "stream",
     "text": [
      "31137/31137 [==============================] - 363s 12ms/step\n"
     ]
    }
   ],
   "source": [
    "import sklearn.metrics as metrics\n",
    "from sklearn.metrics import accuracy_score\n",
    "#Prediction\n",
    "#Finally predicting and checking the accuracy from the holdout data\n",
    "predictions = model.predict(test_generator, verbose=1)\n",
    "# Get most likely class"
   ]
  },
  {
   "cell_type": "code",
   "execution_count": 17,
   "id": "a077650c",
   "metadata": {
    "execution": {
     "iopub.execute_input": "2022-07-24T07:08:36.835281Z",
     "iopub.status.busy": "2022-07-24T07:08:36.834906Z",
     "iopub.status.idle": "2022-07-24T07:08:36.875880Z",
     "shell.execute_reply": "2022-07-24T07:08:36.874947Z"
    },
    "papermill": {
     "duration": 9.235588,
     "end_time": "2022-07-24T07:08:36.877970",
     "exception": false,
     "start_time": "2022-07-24T07:08:27.642382",
     "status": "completed"
    },
    "tags": []
   },
   "outputs": [
    {
     "name": "stdout",
     "output_type": "stream",
     "text": [
      "[ 0  0  0 ... 30 30 30]\n",
      "[ 0  0  0 ... 30 30 30]\n",
      "                     precision    recall  f1-score   support\n",
      "\n",
      "      Air Pollution       1.00      1.00      1.00       643\n",
      "     Amniotic Fluid       1.00      1.00      1.00      1242\n",
      "             Anther       1.00      1.00      1.00       987\n",
      "         Atmosphere       1.00      0.97      0.98       728\n",
      "        Brittleness       0.97      1.00      0.99       920\n",
      "          Chemistry       0.97      0.99      0.98       976\n",
      "Cogitive Pshycology       1.00      0.95      0.98       988\n",
      "          Cognition       1.00      0.99      0.99       761\n",
      "         Conclusion       1.00      1.00      1.00       816\n",
      "       Condensation       1.00      1.00      1.00      1182\n",
      "                DNA       1.00      1.00      1.00       392\n",
      "   Digestive System       1.00      1.00      1.00      1587\n",
      "             Energy       1.00      0.97      0.98       617\n",
      "        Evaporation       1.00      1.00      1.00      1300\n",
      "External Body Parts       0.96      1.00      0.98       721\n",
      "          FREQUENCY       0.99      0.98      0.98       786\n",
      "             Flower       0.95      0.99      0.97       510\n",
      "     Freezing Point       0.99      1.00      1.00       990\n",
      "           Friction       0.99      0.98      0.98       855\n",
      "         Hard Water       1.00      0.98      0.99      1820\n",
      "Internal Body Parts       0.99      1.00      1.00       766\n",
      "     Land Pollution       1.00      1.00      1.00       736\n",
      "               Mass       1.00      0.99      0.99      1980\n",
      "    Noise Pollution       1.00      1.00      1.00       706\n",
      "            Physics       0.99      0.99      0.99       854\n",
      "             Pistil       1.00      1.00      1.00      1023\n",
      "            Planets       1.00      1.00      1.00      1774\n",
      "         Soft Water       0.97      1.00      0.99      1458\n",
      "             Stamen       0.98      1.00      0.99      1062\n",
      "    Water Pollution       1.00      1.00      1.00       706\n",
      "              gases       1.00      1.00      1.00      1251\n",
      "\n",
      "           accuracy                           0.99     31137\n",
      "          macro avg       0.99      0.99      0.99     31137\n",
      "       weighted avg       0.99      0.99      0.99     31137\n",
      "\n"
     ]
    }
   ],
   "source": [
    "predicted_classes = np.argmax(predictions, axis=-1)\n",
    "predictions = np.argmax(predictions, axis=-1) #multiple categories\n",
    "true_classes = test_generator.classes\n",
    "class_labels = list(test_generator.class_indices.keys()) \n",
    "print(predictions)\n",
    "print(true_classes)\n",
    "accuracy_score(true_classes, predictions)\n",
    "report = metrics.classification_report(true_classes, predicted_classes, target_names=class_labels)\n",
    "print(report)"
   ]
  },
  {
   "cell_type": "code",
   "execution_count": 18,
   "id": "26583f0f",
   "metadata": {
    "execution": {
     "iopub.execute_input": "2022-07-24T07:08:55.166137Z",
     "iopub.status.busy": "2022-07-24T07:08:55.165672Z",
     "iopub.status.idle": "2022-07-24T07:08:55.486065Z",
     "shell.execute_reply": "2022-07-24T07:08:55.485060Z"
    },
    "papermill": {
     "duration": 9.405627,
     "end_time": "2022-07-24T07:08:55.488065",
     "exception": false,
     "start_time": "2022-07-24T07:08:46.082438",
     "status": "completed"
    },
    "tags": []
   },
   "outputs": [
    {
     "name": "stdout",
     "output_type": "stream",
     "text": [
      "dict_keys(['loss', 'acc', 'val_loss', 'val_acc'])\n"
     ]
    },
    {
     "data": {
      "image/png": "[encoded data removed]",
      "text/plain": [
       "<Figure size 432x288 with 1 Axes>"
      ]
     },
     "metadata": {
      "needs_background": "light"
     },
     "output_type": "display_data"
    }
   ],
   "source": [
    "print(hist.history.keys())\n",
    "epochs = range(1,35)\n",
    "#  \"Accuracy\"\n",
    "plt.plot(hist.history['acc'])\n",
    "plt.plot(hist.history['val_acc'])\n",
    "plt.title('model accuracy')\n",
    "plt.ylabel('accuracy')\n",
    "plt.xlabel('epoch')\n",
    "plt.legend(['train', 'validation'], loc='upper left')\n",
    "plt.savefig(\"resnetVal accuracy.png\")\n",
    "plt.show()"
   ]
  },
  {
   "cell_type": "code",
   "execution_count": 19,
   "id": "2031a5e9",
   "metadata": {
    "execution": {
     "iopub.execute_input": "2022-07-24T07:09:13.993512Z",
     "iopub.status.busy": "2022-07-24T07:09:13.993097Z",
     "iopub.status.idle": "2022-07-24T07:09:14.248842Z",
     "shell.execute_reply": "2022-07-24T07:09:14.247977Z"
    },
    "papermill": {
     "duration": 9.284274,
     "end_time": "2022-07-24T07:09:14.250924",
     "exception": false,
     "start_time": "2022-07-24T07:09:04.966650",
     "status": "completed"
    },
    "tags": []
   },
   "outputs": [
    {
     "data": {
      "image/png": "[encoded data removed]",
      "text/plain": [
       "<Figure size 432x288 with 1 Axes>"
      ]
     },
     "metadata": {
      "needs_background": "light"
     },
     "output_type": "display_data"
    }
   ],
   "source": [
    "# \"Loss\"\n",
    "plt.plot(hist.history['loss'])\n",
    "plt.plot(hist.history['val_loss'])\n",
    "plt.title('model loss')\n",
    "plt.ylabel('loss')\n",
    "plt.xlabel('epoch')\n",
    "plt.legend(['train', 'validation'], loc='upper left')\n",
    "plt.savefig(\"loss.png\")\n",
    "plt.show()"
   ]
  }
 ],
 "metadata": {
  "kernelspec": {
   "display_name": "Python 3",
   "language": "python",
   "name": "python3"
  },
  "language_info": {
   "codemirror_mode": {
    "name": "ipython",
    "version": 3
   },
   "file_extension": ".py",
   "mimetype": "text/x-python",
   "name": "python",
   "nbconvert_exporter": "python",
   "pygments_lexer": "ipython3",
   "version": "3.7.12"
  },
  "papermill": {
   "default_parameters": {},
   "duration": 28649.679389,
   "end_time": "2022-07-24T07:09:26.632086",
   "environment_variables": {},
   "exception": null,
   "input_path": "__notebook__.ipynb",
   "output_path": "__notebook__.ipynb",
   "parameters": {},
   "start_time": "2022-07-23T23:11:56.952697",
   "version": "2.3.4"
  }
 },
 "nbformat": 4,
 "nbformat_minor": 5
}
